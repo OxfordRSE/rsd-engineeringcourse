{
 "cells": [
  {
   "cell_type": "markdown",
   "metadata": {},
   "source": [
    "# Testing"
   ]
  },
  {
   "cell_type": "markdown",
   "metadata": {},
   "source": [
    "## Introduction"
   ]
  },
  {
   "cell_type": "markdown",
   "metadata": {},
   "source": [
    "### A few reasons not to do testing"
   ]
  },
  {
   "cell_type": "markdown",
   "metadata": {},
   "source": [
    "Sensibility                               | Sense\n",
    "  ------------------------------------    |  -------------------------------------\n",
    "  **It's boring**                         |  *Maybe*\n",
    "  **Code is just a one off throwaway**    |  *As with most research codes*\n",
    "  **No time for it**                      |  *A bit more code, a lot less debugging*\n",
    "  **Tests can be buggy too**              |  *See above*\n",
    "  **Not a professional programmer**       |  *See above*\n",
    "  **Will do it later**                    | *See above*"
   ]
  },
  {
   "cell_type": "markdown",
   "metadata": {},
   "source": [
    "### A few reasons to do testing\n",
    "\n",
    "* **lazyness** *testing saves time*\n",
    "* **peace of mind** *tests (should) ensure code is correct*\n",
    "* **runnable specification** *best way to let others know what a function should do and\n",
    "    not do*\n",
    "* **reproducible debugging** *debugging that happened and is saved for later reuse*\n",
    "* code structure / **modularity** *since the code is designed for at least two situations*\n",
    "* easier to modify *since results can be tested*"
   ]
  },
  {
   "cell_type": "markdown",
   "metadata": {},
   "source": [
    "### Not a panacea\n",
    "\n",
    "> Trying to improve the quality of software by doing more testing is like trying to lose weight by\n",
    "> weighting yourself more often.\n",
    "    - Steve McConnell"
   ]
  },
  {
   "cell_type": "markdown",
   "metadata": {},
   "source": [
    " * Testing won't corrrect a buggy code\n",
    " * Testing will tell you were the bugs are...\n",
    " * ... if the test cases *cover* the bugs"
   ]
  },
  {
   "attachments": {
    "test%20pyramid.png": {
     "image/png": "[encoded data removed]"
    }
   },
   "cell_type": "markdown",
   "metadata": {},
   "source": [
    "### Tests at different scales\n",
    "\n",
    "![test%20pyramid.png](attachment:test%20pyramid.png)\n",
    "\n",
    "Level of test               |Area covered by test\n",
    "--------------------------  |----------------------\n",
    "**Unit testing**            |smallest logical block of work (often < 10 lines of code)\n",
    "**Component testing**       |several logical blocks of work together\n",
    "**System testing**     |all components together / whole program\n",
    "\n",
    "\n",
    "<br>\n",
    "<div class=\"fragment fade-in\">\n",
    "Always start at the smallest scale! \n",
    "\n",
    "<div class=\"fragment grow\">\n",
    "If a unit test is too complicated, go smaller.\n",
    "</div>\n",
    "</div>"
   ]
  },
  {
   "cell_type": "markdown",
   "metadata": {},
   "source": [
    "### Legacy code hardening\n",
    "\n",
    "* Very difficult to create unit-tests for existing code\n",
    "* Instead we make a **regression test**\n",
    "* Run program as a black box:\n",
    "\n",
    "```\n",
    "setup input\n",
    "run program\n",
    "read output\n",
    "check output against expected result\n",
    "```\n",
    "\n",
    "* Does not test correctness of code\n",
    "* Checks code is a similarly wrong on day N as day 0"
   ]
  },
  {
   "cell_type": "markdown",
   "metadata": {},
   "source": [
    "### Testing vocabulary\n",
    "\n",
    "* **fixture**: input data\n",
    "* **action**: function that is being tested\n",
    "* **expected result**: the output that should be obtained\n",
    "* **actual result**: the output that is obtained\n",
    "* **coverage**: proportion of all possible paths in the code that the tests take"
   ]
  },
  {
   "cell_type": "markdown",
   "metadata": {},
   "source": [
    "### Branch coverage:"
   ]
  },
  {
   "cell_type": "markdown",
   "metadata": {
    "attributes": {
     "classes": [
      " python"
     ],
     "id": ""
    }
   },
   "source": [
    "```python\n",
    "if energy > 0:\n",
    "    ! Do this \n",
    "else:\n",
    "    ! Do that\n",
    "```"
   ]
  },
  {
   "cell_type": "markdown",
   "metadata": {},
   "source": [
    "Is there a test for both `energy > 0` and `energy <= 0`?"
   ]
  }
 ],
 "metadata": {
  "jekyll": {
   "display_name": "Testing Basics"
  },
  "kernelspec": {
   "display_name": "Python 3",
   "language": "python",
   "name": "python3"
  },
  "language_info": {
   "codemirror_mode": {
    "name": "ipython",
    "version": 3
   },
   "file_extension": ".py",
   "mimetype": "text/x-python",
   "name": "python",
   "nbconvert_exporter": "python",
   "pygments_lexer": "ipython3",
   "version": "3.7.3"
  },
  "widgets": {
   "state": {},
   "version": "1.1.2"
  }
 },
 "nbformat": 4,
 "nbformat_minor": 1
}
