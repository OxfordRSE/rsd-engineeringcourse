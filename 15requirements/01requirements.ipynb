{
 "cells": [
  {
   "cell_type": "markdown",
   "metadata": {},
   "source": [
    "# Requirements Engineering\n",
    "\n",
    "Requirements Engineering is a huge topic. Oxford's Software Engineering M.Sc. programme includes a [week-long course on Requirements Engineering](http://www.cs.ox.ac.uk/softeng/subjects/REN.html), and here we are shrinking it into half of a single lesson. The best we can hope is that you gain an appreciation for the topic, some ideas about how to think about the requirements for your own software, and the motivation to go and learn more and put your understanding into practice.\n",
    "\n",
    "## An aside on philosophy\n",
    "\n",
    "Let me paint two different pictures of requirements engineering. The first is probably the one that informed the term, when Thayer and Dorfman introduced the term in their 1995 book _System and Software Requirements Engineering_. The second basically subverts everything that's present in the first.\n",
    "\n",
    "In the first picture, there is an ideal form that the software we want to build could take. The requirements are out there, flitting about like butterflies. They are real things that exist in the world. Our job as requirements engineers is to use our skilful engineering techniques like butterfly nets, capturing these requirements and pinning them to our development project. The more requirements we capture and the more carefully and precisely we pin them down, the better our software will become. When we have sufficiently elucidated the software requirements, we're ready to build the software.\n",
    "\n",
    "In the second picture, there is no ideal software because the act of introducing the software into the system, or even talking about possible software with stakeholders, changes the system. As people come and go, the system changes, the way that they work changes, and so the software that would best support the people changes. Our role as requirements engineers is to observe the people in their context, to hypothesise changes, implement and observe the results of those changes. There's never \"enough\" software requirements because there's no end goal: just an evolutionary process of change and adaptation from both us and our users. There's also no \"right\" software to build, just fitness for context that changes as both the software and the context change.\n",
    "\n",
    "These pictures clearly represent two very different ways to think about a software system and its requirements, and can be considered as two ends of a continuum. Depending on the problem, the people, the rate at which both of those things change, and who you ask, you may get a different view on where your situation sits in the continuum.\n",
    "\n",
    "## Requirements Elicitation\n",
    "\n",
    "### Goal Donors vs. Gold Owners\n",
    "\n",
    "Before any elicitation activity can be undertaken, you need to work out who the correct people to talk to are. Business project management resources glibly refer to \"the stakeholders\", as if your role is akin to Jonathan Harker in Dracula, seeking the help of Van Helsing. In reality there will be different roles, assumed by (potentially) different people, with differing and probably even conflicting needs. Keeping all of these people happy, or maybe minimally unhappy, is at the heart of the requirements engineering problem.\n",
    "\n",
    "In the early days of the Patterns Language of Programming movement, the community invented the term [Goal Donor](http://wiki.c2.com/?GoalDonor) to describe someone who creates the software team's goals, and [Gold Owner](http://wiki.c2.com/?GoldOwner) to describe someone who pays for the team's work. It's important to realise that these are often different people, who have different expectations.\n",
    "\n",
    "On a research software project, the Goal Donor is likely to be the Principal Investigator, while the Gold Owner will be the research council or other grant-awarding body. Luckily, they probably both have similar objectives, to produce high-impact research in a particular field. But those aren't likely to be the only people with opinions on how the software should work. If it's destined to be run on University computers or in a high-performance computing centre, the support staff may have certain rules or policies that affect your software project.\n",
    "\n",
    "The people _using_ the software may not be the P.I. or the research council, they may be research assistants, technicians, D.Phil. students, or members of the public. Their ability to use the software is an important factor in its success. When the public are involved, then so may be your institution's marketing department and ethics review board.\n",
    "\n",
    "### Elicitation Techniques\n",
    "\n",
    "Here's a quick list of techniques used, organised into four quadrants based on whether the requirements engineer is a passive or active participant, and on whether the stakeholders are involved individually or as a group. The list is not exhaustive.\n",
    "\n",
    " - Passive Engineer, Individual Stakeholder\n",
    "  - Usability labs\n",
    "  - Questionnaire\n",
    " - Passive Engineer, Multiple Stakeholders\n",
    "  - Video recording in context\n",
    "  - Realist ethnography\n",
    " - Active Engineer, Individual Stakeholder\n",
    "  - Interview\n",
    "  - Guided usability study or prototype feedback\n",
    " - Active Engineer, Multiple Stakeholders\n",
    "  - Critical ethnography\n",
    "  - Focus groups\n",
    "  - Brainstorming sessions"
   ]
  }
 ],
 "metadata": {
  "kernelspec": {
   "display_name": "Python 3",
   "language": "python",
   "name": "python3"
  },
  "language_info": {
   "codemirror_mode": {
    "name": "ipython",
    "version": 3
   },
   "file_extension": ".py",
   "mimetype": "text/x-python",
   "name": "python",
   "nbconvert_exporter": "python",
   "pygments_lexer": "ipython3",
   "version": "3.7.3"
  }
 },
 "nbformat": 4,
 "nbformat_minor": 2
}
