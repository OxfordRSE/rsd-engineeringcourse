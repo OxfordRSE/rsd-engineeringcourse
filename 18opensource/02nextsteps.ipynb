{
 "cells": [
  {
   "cell_type": "markdown",
   "metadata": {},
   "source": [
    "# Next Steps\n",
    "\n",
    "So that's it! You've seen our whistle-stop tour of research software engineering. It was necessarily a brief introduction, which has hopefully given you some insight into the various tasks of a research software engineer (including, but not limited to, writing research software), and some enthusiasm to find out more and apply some engineering skills to your research software. OK, how?\n",
    "\n",
    "## Put it in Practice\n",
    "\n",
    "The best way to learn is through practical experience, so go back to your own research software project and work on it as an engineer. Add a `CITATION` record, or ensure the documentation exists and is up to date, for example. Add unit tests, refactoring where necessary to create testable modyles.\n",
    "\n",
    "## Involve Oxford RSE in your Project\n",
    "\n",
    "You can hire the Oxford RSE team to help with engineering your research software. [Fill in our request form](https://docs.google.com/forms/d/e/1FAIpQLSfieXEgcms7SopJ_9k1biLpLdthSpL3EWm3DxHI6EMB4znwzw/viewform) or contact us (details below).\n",
    "\n",
    "## Come to our Other Courses\n",
    "\n",
    "We regularly run courses for researchers and research software engineers, look out for emails with future announcements.\n",
    "\n",
    "## Contact Us\n",
    "\n",
    "You can email [rse@cs.ox.ac.uk](mailto:rse@cs.ox.ac.uk) to contact the team.\n",
    "\n",
    "## More Information\n",
    "\n",
    "[Oxford RSE website](https://www.cs.ox.ac.uk/projects/RSE/)\n",
    "[UK Research Software Engineers Association](https://rse.ac.uk/)\n",
    "[Software Sustainability Institute](https://software.ac.uk/)"
   ]
  }
 ],
 "metadata": {
  "kernelspec": {
   "display_name": "Python 3",
   "language": "python",
   "name": "python3"
  },
  "language_info": {
   "codemirror_mode": {
    "name": "ipython",
    "version": 3
   },
   "file_extension": ".py",
   "mimetype": "text/x-python",
   "name": "python",
   "nbconvert_exporter": "python",
   "pygments_lexer": "ipython3",
   "version": "3.7.3"
  }
 },
 "nbformat": 4,
 "nbformat_minor": 2
}
