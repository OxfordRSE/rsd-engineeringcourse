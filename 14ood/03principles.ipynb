{
 "cells": [
  {
   "cell_type": "markdown",
   "metadata": {
    "slideshow": {
     "slide_type": "slide"
    }
   },
   "source": [
    "# OOD Principles\n",
    "\n",
    "Merely sprinkling object-oriented syntax over a software design does not make it an object-oriented design. The design must make good use of object-oriented principles to ensure a close association between the features of the design, and the features of the problem being solved. Ideally the design should make easy to change the things about the problem domain that are most likely to change."
   ]
  },
  {
   "cell_type": "markdown",
   "metadata": {
    "slideshow": {
     "slide_type": "slide"
    }
   },
   "source": [
    "## Textual Analysis\n",
    "\n",
    "You can go a long way toward building an object-oriented design by reading some requirements statement and identifying nouns (either objects, or properties on objects) and verbs (methods performed on objects). Here's a paragraph about Lattice QCD, a computational technique for simulating the strong nuclear force interactions ([source](http://research.kek.jp/people/matufuru/Research/Docs/Lattice/Introduction/note_lattice.pdf))."
   ]
  },
  {
   "cell_type": "markdown",
   "metadata": {
    "slideshow": {
     "slide_type": "fragment"
    }
   },
   "source": [
    "> Quantum chromodynamics is the fundamental theory to describe the dynamics of quarks and gluons in hadrons[1].  The gluons are non-Abelian SU(3) gauge field interacting with quarks. At low-energy, QCD has tow [sic] distinct features: the confinement and the spontaneous breaking of the chiral symmetry. The former confines quarks and gluons in hadrons, and the latter is the origin of large ejective masses of quarks and light pseudoscalar mesons such as pions. The QCD coupling has [the] striking feature that it decreases at short length (the asymptotic freedom)."
   ]
  },
  {
   "cell_type": "markdown",
   "metadata": {
    "slideshow": {
     "slide_type": "slide"
    }
   },
   "source": [
    "Even though we don't yet fully understand this problem (well, I don't), we can identify some objects:\n",
    "\n",
    " - quarks\n",
    " - gluons\n",
    " - hadrons\n",
    " - mesons\n",
    "\n",
    "Some properties:\n",
    "\n",
    " - distance between quarks/gluons\n",
    " - chiral symmetry\n",
    " - gluon field strength\n",
    "\n",
    "And at least one method: the QCD force exerted on a particle."
   ]
  },
  {
   "cell_type": "markdown",
   "metadata": {
    "slideshow": {
     "slide_type": "slide"
    }
   },
   "source": [
    "Such a glossary gives us a starting point for a discussion with the people who actually understand Lattice QCD, so we can check our assumptions, create a shared language that applies to both the problem domain and the software, and start building a software system that suits their needs."
   ]
  },
  {
   "cell_type": "markdown",
   "metadata": {
    "slideshow": {
     "slide_type": "slide"
    }
   },
   "source": [
    "## Relationships Between Objects\n",
    "\n",
    "Objects in software exist so that we can model real-world objects, which often have relationships between each other such as composition (\"this thing has these parts\") or ownership (\"this thing belongs to that thing\"). While a programming language like Python just has instance variables that associate one object with another, expressing the _meaning_ of the association in the design is useful for validating the design and identifying any constraints necessary in the implementation."
   ]
  },
  {
   "cell_type": "markdown",
   "metadata": {
    "slideshow": {
     "slide_type": "slide"
    }
   },
   "source": [
    "### Containing relationship\n",
    "\n",
    "A type of composition, where one object's identity is defined through its ownership or encapsulation of its parts. As an example, a hadron such as a proton _is_ a hadron because it contains three quarks.\n",
    "\n",
    "![](images/containing.png)\n",
    "\n",
    "Notice in the diagram we left out any methods or instance variables, because they aren't relevant to this discussion. A critical skill in design and diagramming is highlighting important information and excluding irrelevant information."
   ]
  },
  {
   "cell_type": "markdown",
   "metadata": {
    "slideshow": {
     "slide_type": "slide"
    }
   },
   "source": [
    "### Aggregate relationship\n",
    "\n",
    "A looser type of ownership than containment, in which one object \"owns\" the other in a more transient way. The spacetime lattice that our simulation plays out on aggregates the particles within its bounds, but they might leave or be destroyed, and others might be created. Note the hollow diamond used for the relationship, rather than the solid diamond in a containing relationship.\n",
    "\n",
    "![](images/aggregation.png)"
   ]
  },
  {
   "cell_type": "markdown",
   "metadata": {
    "slideshow": {
     "slide_type": "slide"
    }
   },
   "source": [
    "## Inheritance\n",
    "\n",
    "Inheritance, or extension, is a powerful but overused concept in object-oriented programming. If one category of object can be thought of as a specialised example of another category of object, then it _may_ be useful to define an inheritance relationship between the classes representing those categories.\n",
    "\n",
    "If one class (the subclass, or child class) inherits from another (the superclass, or parent class), then it \"inherits\" all of the instance variables and methods from that class but can extend or specialise that behaviour by supplying its own. We _might_ want to put the common features of quarks and gluons into a parent `Particle` class.\n",
    "\n",
    "![](images/inheritance.png)"
   ]
  },
  {
   "cell_type": "code",
   "execution_count": 6,
   "metadata": {
    "slideshow": {
     "slide_type": "fragment"
    }
   },
   "outputs": [],
   "source": [
    "class Particle:\n",
    "    pass\n",
    "\n",
    "class Quark(Particle):\n",
    "    pass\n",
    "\n",
    "class Gluon(Particle):\n",
    "    pass\n",
    "\n",
    "g = Gluon()\n",
    "assert(isinstance(g, Particle))"
   ]
  },
  {
   "cell_type": "markdown",
   "metadata": {
    "slideshow": {
     "slide_type": "slide"
    }
   },
   "source": [
    "## Encapsulation\n",
    "\n",
    "An important principle in object-oriented programming is that an object \"owns\" its data (instance variables) and behaviour (methods), and only gives such access to them as necessary to interact with the system in solving problems. The benefit of such \"information hiding\" is that knowledge of how one class works and what its constraints are can be confined to that class, because nothing else in the system knows enough about the innards of that class to do its own calculations in parallel. This improves the maintainability of the code, because a change in that implementation is confined to one place.\n",
    "\n",
    "An important application of encapsulation is the Single Responsibility Principle, which we'll explore later."
   ]
  },
  {
   "cell_type": "markdown",
   "metadata": {
    "slideshow": {
     "slide_type": "slide"
    }
   },
   "source": [
    "### Encapsulation and the UML\n",
    "\n",
    "The UML defines a few different levels of information hiding, in fact more than Python does, because the others are available in other languages including C++ and Java. The two important ones, and ones which Python supports, are public (this is available elsewhere) and private (this is not).\n",
    "\n",
    "![](images/encapsulation.png)\n",
    "\n",
    "(PlantUML uses different coloured shapes for public and private, other UML tools use + for public and - for private)"
   ]
  },
  {
   "cell_type": "code",
   "execution_count": 7,
   "metadata": {
    "slideshow": {
     "slide_type": "fragment"
    }
   },
   "outputs": [
    {
     "name": "stdout",
     "output_type": "stream",
     "text": [
      "Hi\n",
      "Hello\n"
     ]
    },
    {
     "ename": "AttributeError",
     "evalue": "'MyClass' object has no attribute '__reallyPrivate'",
     "output_type": "error",
     "traceback": [
      "\u001b[0;31m---------------------------------------------------------------------------\u001b[0m",
      "\u001b[0;31mAttributeError\u001b[0m                            Traceback (most recent call last)",
      "\u001b[0;32m<ipython-input-7-d30ee13d6248>\u001b[0m in \u001b[0;36m<module>\u001b[0;34m\u001b[0m\n\u001b[1;32m     12\u001b[0m \u001b[0mprint\u001b[0m\u001b[0;34m(\u001b[0m\u001b[0mobject\u001b[0m\u001b[0;34m.\u001b[0m\u001b[0mpublicInstanceVariable\u001b[0m\u001b[0;34m)\u001b[0m\u001b[0;34m\u001b[0m\u001b[0;34m\u001b[0m\u001b[0m\n\u001b[1;32m     13\u001b[0m \u001b[0mprint\u001b[0m\u001b[0;34m(\u001b[0m\u001b[0mobject\u001b[0m\u001b[0;34m.\u001b[0m\u001b[0m_privateInstanceVariable\u001b[0m\u001b[0;34m)\u001b[0m\u001b[0;34m\u001b[0m\u001b[0;34m\u001b[0m\u001b[0m\n\u001b[0;32m---> 14\u001b[0;31m \u001b[0mprint\u001b[0m\u001b[0;34m(\u001b[0m\u001b[0mobject\u001b[0m\u001b[0;34m.\u001b[0m\u001b[0m__reallyPrivate\u001b[0m\u001b[0;34m)\u001b[0m\u001b[0;34m\u001b[0m\u001b[0;34m\u001b[0m\u001b[0m\n\u001b[0m",
      "\u001b[0;31mAttributeError\u001b[0m: 'MyClass' object has no attribute '__reallyPrivate'"
     ]
    }
   ],
   "source": [
    "# In Python, use underscore prefixes for private. One underscore is just a convention\n",
    "# to tell programmers you intend a field or method to be private.\n",
    "# If you use two underscores, Python enforces the privacy.\n",
    "\n",
    "class MyClass:\n",
    "    def __init__(self):\n",
    "        self.publicInstanceVariable = \"Hi\"\n",
    "        self._privateInstanceVariable = \"Hello\"\n",
    "        self.__reallyPrivate = \"Go away\"\n",
    "\n",
    "object = MyClass()\n",
    "print(object.publicInstanceVariable) # Hi\n",
    "print(object._privateInstanceVariable) # Hello\n",
    "print(object.__reallyPrivate) # AttributeError"
   ]
  }
 ],
 "metadata": {
  "celltoolbar": "Slideshow",
  "kernelspec": {
   "display_name": "Python 3",
   "language": "python",
   "name": "python3"
  },
  "language_info": {
   "codemirror_mode": {
    "name": "ipython",
    "version": 3
   },
   "file_extension": ".py",
   "mimetype": "text/x-python",
   "name": "python",
   "nbconvert_exporter": "python",
   "pygments_lexer": "ipython3",
   "version": "3.7.3"
  }
 },
 "nbformat": 4,
 "nbformat_minor": 2
}
