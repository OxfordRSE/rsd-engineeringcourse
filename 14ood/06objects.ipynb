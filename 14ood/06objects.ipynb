{
 "cells": [
  {
   "cell_type": "markdown",
   "metadata": {
    "slideshow": {
     "slide_type": "slide"
    }
   },
   "source": [
    "## Object refactorings"
   ]
  },
  {
   "cell_type": "markdown",
   "metadata": {
    "slideshow": {
     "slide_type": "slide"
    }
   },
   "source": [
    "### Replace add-hoc structure with user defined classes"
   ]
  },
  {
   "cell_type": "markdown",
   "metadata": {
    "slideshow": {
     "slide_type": "fragment"
    }
   },
   "source": [
    "\n",
    "Smell: A data structure made of nested arrays and dictionaries becomes unwieldy.\n",
    "\n",
    "Before:\n",
    "\n",
    "\n"
   ]
  },
  {
   "cell_type": "code",
   "execution_count": 8,
   "metadata": {
    "slideshow": {
     "slide_type": "fragment"
    }
   },
   "outputs": [],
   "source": [
    "from random import random\n",
    "birds = [{\"position\": random(),\n",
    "          \"velocity\": random(),\n",
    "          \"type\": kind} for kind in bird_types]\n",
    "\n",
    "average_position = average([bird[\"position\"] for bird in birds])"
   ]
  },
  {
   "cell_type": "markdown",
   "metadata": {
    "slideshow": {
     "slide_type": "slide"
    }
   },
   "source": [
    "\n",
    "\n",
    "\n",
    "After:\n",
    "\n",
    "\n"
   ]
  },
  {
   "cell_type": "code",
   "execution_count": 9,
   "metadata": {
    "slideshow": {
     "slide_type": "fragment"
    }
   },
   "outputs": [],
   "source": [
    "class Bird:\n",
    "    def __init__(self, kind):\n",
    "        from random import random\n",
    "        self.type = type\n",
    "        self.position = random()\n",
    "        self.velocity = random()\n",
    "\n",
    "birds = [Bird(kind) for kind in bird_types]\n",
    "average_position = average([bird.position for bird in birds])"
   ]
  },
  {
   "cell_type": "markdown",
   "metadata": {
    "slideshow": {
     "slide_type": "slide"
    }
   },
   "source": [
    "### Replace function with a method"
   ]
  },
  {
   "cell_type": "markdown",
   "metadata": {
    "slideshow": {
     "slide_type": "fragment"
    }
   },
   "source": [
    "\n",
    "Smell: A function is always called with the same kind of thing\n",
    "\n",
    "Before:\n",
    "\n",
    "\n"
   ]
  },
  {
   "cell_type": "code",
   "execution_count": 10,
   "metadata": {
    "slideshow": {
     "slide_type": "fragment"
    }
   },
   "outputs": [],
   "source": [
    "def can_see(source, target):\n",
    "    return (source.facing - target.facing) < source.viewport\n",
    "\n",
    "if can_see(hawk, starling):\n",
    "    hawk.hunt()"
   ]
  },
  {
   "cell_type": "markdown",
   "metadata": {
    "slideshow": {
     "slide_type": "slide"
    }
   },
   "source": [
    "\n",
    "\n",
    "\n",
    "After:\n",
    "\n",
    "\n"
   ]
  },
  {
   "cell_type": "code",
   "execution_count": 11,
   "metadata": {
    "slideshow": {
     "slide_type": "fragment"
    }
   },
   "outputs": [],
   "source": [
    "class Bird:\n",
    "    def can_see(self, target):\n",
    "        return (self.facing - target.facing) < self.viewport\n",
    "\n",
    "if hawk.can_see(starling):\n",
    "    hawk.hunt()"
   ]
  },
  {
   "cell_type": "markdown",
   "metadata": {
    "slideshow": {
     "slide_type": "slide"
    }
   },
   "source": [
    "### Replace method arguments with class members"
   ]
  },
  {
   "cell_type": "markdown",
   "metadata": {
    "slideshow": {
     "slide_type": "fragment"
    }
   },
   "source": [
    "\n",
    "Smell: A variable is nearly always used in arguments to \n",
    "a class.\n",
    "\n",
    "\n"
   ]
  },
  {
   "cell_type": "code",
   "execution_count": 12,
   "metadata": {
    "slideshow": {
     "slide_type": "fragment"
    }
   },
   "outputs": [],
   "source": [
    "class Person:\n",
    "    def __init__(self, genes):\n",
    "        self.genes = genes\n",
    "    def reproduce_probability(self, age): pass\n",
    "    def death_probability(self, age): pass\n",
    "    def emigrate_probability(self, age): pass"
   ]
  },
  {
   "cell_type": "markdown",
   "metadata": {
    "slideshow": {
     "slide_type": "slide"
    }
   },
   "source": [
    "\n",
    "\n",
    "\n",
    "After:\n",
    "\n",
    "\n"
   ]
  },
  {
   "cell_type": "code",
   "execution_count": 13,
   "metadata": {
    "slideshow": {
     "slide_type": "fragment"
    }
   },
   "outputs": [],
   "source": [
    "class Person:\n",
    "    def __init__(self, genes, age):\n",
    "        self.age = age\n",
    "        self.genes = genes\n",
    "    def reproduce_probability(self): pass\n",
    "    def death_probability(self): pass\n",
    "    def emigrate_probability(self): pass"
   ]
  },
  {
   "cell_type": "markdown",
   "metadata": {
    "slideshow": {
     "slide_type": "slide"
    }
   },
   "source": [
    "### Replace global variable with class and member"
   ]
  },
  {
   "cell_type": "markdown",
   "metadata": {
    "slideshow": {
     "slide_type": "fragment"
    }
   },
   "source": [
    "\n",
    "Smell: A global variable is referenced by a few functions\n",
    "\n",
    "\n"
   ]
  },
  {
   "cell_type": "code",
   "execution_count": 14,
   "metadata": {
    "slideshow": {
     "slide_type": "fragment"
    }
   },
   "outputs": [
    {
     "name": "stdout",
     "output_type": "stream",
     "text": [
      "No birthday for you today.\n"
     ]
    }
   ],
   "source": [
    "name = \"Terry Jones\"\n",
    "birthday = [1, 2, 1942]\n",
    "today = [22, 11]\n",
    "\n",
    "if today == birthday[0:2]:\n",
    "    print(f\"Happy Birthday, {name}\")\n",
    "else:\n",
    "    print(\"No birthday for you today.\")"
   ]
  },
  {
   "cell_type": "markdown",
   "metadata": {
    "slideshow": {
     "slide_type": "slide"
    }
   },
   "source": [
    "After:"
   ]
  },
  {
   "cell_type": "code",
   "execution_count": 15,
   "metadata": {
    "slideshow": {
     "slide_type": "fragment"
    }
   },
   "outputs": [
    {
     "name": "stdout",
     "output_type": "stream",
     "text": [
      "No birthday for you.\n"
     ]
    }
   ],
   "source": [
    "class Person(object):\n",
    "    def __init__(self, birthday, name):\n",
    "        self.birth_day = birthday[0]\n",
    "        self.birth_month = birthday[1]\n",
    "        self.birth_year = birthday[2]\n",
    "        self.name = name\n",
    "    def check_birthday(self, today_day, today_month):\n",
    "        if not self.birth_day == today_day:\n",
    "            return False\n",
    "        if not self.birth_month == today_month:\n",
    "            return False\n",
    "        return True\n",
    "    def greet_appropriately(self, today):\n",
    "        if self.check_birthday(*today):\n",
    "            print(f\"Happy Birthday, {self.name}\")\n",
    "        else:\n",
    "            print(\"No birthday for you.\")\n",
    "\n",
    "michael = Person([5, 5, 1943], \"Michael Palin\")\n",
    "michael.greet_appropriately(today)"
   ]
  },
  {
   "cell_type": "markdown",
   "metadata": {
    "slideshow": {
     "slide_type": "slide"
    }
   },
   "source": [
    "### Object Oriented Refactoring Summary"
   ]
  },
  {
   "cell_type": "markdown",
   "metadata": {
    "slideshow": {
     "slide_type": "fragment"
    }
   },
   "source": [
    "\n",
    "* Replace ad-hoc structure with a class\n",
    "* Replace function with a method\n",
    "* Replace method argument with class member\n",
    "* Replace global variable with class data\n",
    "\n",
    "\n"
   ]
  }
 ],
 "metadata": {
  "celltoolbar": "Slideshow",
  "jekyll": {
   "display_name": "Object Refactorings"
  },
  "kernelspec": {
   "display_name": "Python 3",
   "language": "python",
   "name": "python3"
  },
  "language_info": {
   "codemirror_mode": {
    "name": "ipython",
    "version": 3
   },
   "file_extension": ".py",
   "mimetype": "text/x-python",
   "name": "python",
   "nbconvert_exporter": "python",
   "pygments_lexer": "ipython3",
   "version": "3.7.3"
  }
 },
 "nbformat": 4,
 "nbformat_minor": 1
}
