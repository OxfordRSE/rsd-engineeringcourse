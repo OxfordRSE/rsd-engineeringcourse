{
 "cells": [
  {
   "cell_type": "markdown",
   "metadata": {
    "slideshow": {
     "slide_type": "slide"
    }
   },
   "source": [
    "# Design"
   ]
  },
  {
   "cell_type": "markdown",
   "metadata": {
    "slideshow": {
     "slide_type": "slide"
    }
   },
   "source": [
    "## Object-Oriented Design\n",
    "\n",
    "In this session, we will finally discuss the thing most people think of when they refer to \"Software Engineering\": the deliberate *design* of software.\n",
    "\n",
    "The software engineering community has, in large part, focused on an object-oriented approach to the design and development of large scale software systems.\n",
    "The basic concepts of object orientation are necessary to follow much of the software engineering conversation."
   ]
  },
  {
   "cell_type": "markdown",
   "metadata": {
    "slideshow": {
     "slide_type": "slide"
    }
   },
   "source": [
    "## Design and Research\n",
    "\n",
    "Software engineering theory has largely been developed in the context of commercial software companies. Academic publishing on software engineering has often reacted to commercial innovations in process and technique, and a specialised sub-discipline of Empirical Software Engineering attempts to provide quantitative tests of some of the claims made about commercial practices.\n",
    "\n",
    "The extent to which the practices and processes developed for commercial software are applicable in a research context is itself an active area of research."
   ]
  },
  {
   "cell_type": "markdown",
   "metadata": {
    "slideshow": {
     "slide_type": "slide"
    }
   },
   "source": [
    "## Why design?\n",
    "\n",
    "There are three complex systems (at least) involved in any software product:\n",
    "\n",
    " - the human/technical system which has the problem we intend to solve in software;\n",
    " - the human/technical system which is the group of people solving the problem;\n",
    " - the software itself.\n",
    "\n",
    "We need to ensure that our software output (product, app, library, service, etc) solves the problem that the customers or other stakeholders have, in a way that's efficient for the engineering team to build and maintain. Further, we need everything to be sensitive to changes caused whether externally or by the act of introducing the software. A design is a way of capturing our knowledge about these issues and exploring how a potential solution could trade them off to good advantage, without going to the expense and effort of building the whole thing and discovering it isn't feasible."
   ]
  },
  {
   "cell_type": "markdown",
   "metadata": {
    "slideshow": {
     "slide_type": "slide"
    }
   },
   "source": [
    "## Why Object-Oriented Design?\n",
    "\n",
    "In short, because it's successful, and because it's widely-used. It isn't the only game in town, but it's very well understood."
   ]
  }
 ],
 "metadata": {
  "celltoolbar": "Slideshow",
  "kernelspec": {
   "display_name": "Python 3",
   "language": "python",
   "name": "python3"
  },
  "language_info": {
   "codemirror_mode": {
    "name": "ipython",
    "version": 3
   },
   "file_extension": ".py",
   "mimetype": "text/x-python",
   "name": "python",
   "nbconvert_exporter": "python",
   "pygments_lexer": "ipython3",
   "version": "3.7.3"
  }
 },
 "nbformat": 4,
 "nbformat_minor": 2
}
