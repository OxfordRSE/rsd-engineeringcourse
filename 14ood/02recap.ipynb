{
 "cells": [
  {
   "cell_type": "markdown",
   "metadata": {
    "slideshow": {
     "slide_type": "slide"
    }
   },
   "source": [
    "# Recap of Object-Oriented Programming\n",
    "\n",
    "Object-oriented design is the judicious application of concepts in object-oriented programming to describe the desired attributes of a software system intended to solve some problem. Here's a reminder of some of the key parts of objects, expressed in Python and UML."
   ]
  },
  {
   "cell_type": "markdown",
   "metadata": {
    "slideshow": {
     "slide_type": "slide"
    }
   },
   "source": [
    "## UML?\n",
    "\n",
    "The [Unified Modeling Language](https://www.uml-diagrams.org/) is not a programming language, but a diagrammatic _design_ language that you can use to express features of an object-oriented design. You could just draw boxes and arrows, but the UML adds specific meaning to the boxes and arrows that convey more information to readers.\n",
    "\n",
    "Lots of tools support the UML. I've used an open source program called [PlantUML], others use [dia](https://gitlab.gnome.org/GNOME/dia/), [yUML](https://yuml.me/) or fancy commercial Computer-Aided Software Engineering packages like [Enterprise Architect](https://www.sparxsystems.com/). Still others draw on whiteboards with pens; any of these approaches are valid."
   ]
  },
  {
   "cell_type": "markdown",
   "metadata": {
    "slideshow": {
     "slide_type": "slide"
    }
   },
   "source": [
    "## Classes\n",
    "\n",
    "Classes are user-defined types, and act as a blueprint for creating specific objects with defined properties and behaviour.\n",
    "\n",
    "![](images/person.png)"
   ]
  },
  {
   "cell_type": "code",
   "execution_count": 1,
   "metadata": {
    "slideshow": {
     "slide_type": "fragment"
    }
   },
   "outputs": [],
   "source": [
    "class Person:\n",
    "    def __init__(self, name, age):\n",
    "        self.name = name\n",
    "        self.age = age\n",
    "    def grow_up(self):\n",
    "        self.age += 1\n",
    "\n",
    "terry = Person(\"Terry\", 76)\n",
    "terry.home = \"Colwyn Bay\""
   ]
  },
  {
   "cell_type": "markdown",
   "metadata": {
    "slideshow": {
     "slide_type": "fragment"
    }
   },
   "source": [
    "Here `terry` is a `Person`, i.e. the _object_ `terry` is an instance of the class `Person`."
   ]
  },
  {
   "cell_type": "markdown",
   "metadata": {
    "slideshow": {
     "slide_type": "slide"
    }
   },
   "source": [
    "### Method\n",
    "\n",
    "Methods are an object's behaviour, they are code which is part of an object and can work with its internal structure. Usually they're implemented as \"functions which are attached to an object\", which can be a good way of thinking about them.\n",
    "\n",
    "![](images/method.png)"
   ]
  },
  {
   "cell_type": "code",
   "execution_count": 2,
   "metadata": {
    "slideshow": {
     "slide_type": "fragment"
    }
   },
   "outputs": [
    {
     "ename": "NameError",
     "evalue": "name 'value' is not defined",
     "output_type": "error",
     "traceback": [
      "\u001b[0;31m---------------------------------------------------------------------------\u001b[0m",
      "\u001b[0;31mNameError\u001b[0m                                 Traceback (most recent call last)",
      "\u001b[0;32m<ipython-input-2-43c91626a48c>\u001b[0m in \u001b[0;36m<module>\u001b[0;34m\u001b[0m\n\u001b[1;32m      4\u001b[0m \u001b[0;34m\u001b[0m\u001b[0m\n\u001b[1;32m      5\u001b[0m \u001b[0mmy_object\u001b[0m \u001b[0;34m=\u001b[0m \u001b[0mMyClass\u001b[0m\u001b[0;34m(\u001b[0m\u001b[0;34m)\u001b[0m\u001b[0;34m\u001b[0m\u001b[0;34m\u001b[0m\u001b[0m\n\u001b[0;32m----> 6\u001b[0;31m \u001b[0mmy_object\u001b[0m\u001b[0;34m.\u001b[0m\u001b[0msomeMethod\u001b[0m\u001b[0;34m(\u001b[0m\u001b[0mvalue\u001b[0m\u001b[0;34m)\u001b[0m\u001b[0;34m\u001b[0m\u001b[0;34m\u001b[0m\u001b[0m\n\u001b[0m",
      "\u001b[0;31mNameError\u001b[0m: name 'value' is not defined"
     ]
    }
   ],
   "source": [
    "class MyClass:\n",
    "    def someMethod(self, argument):\n",
    "        pass\n",
    "\n",
    "my_object = MyClass()\n",
    "my_object.someMethod(value)"
   ]
  },
  {
   "cell_type": "markdown",
   "metadata": {
    "slideshow": {
     "slide_type": "slide"
    }
   },
   "source": [
    "### Constructor\n",
    "\n",
    "A constructor is a special method that an object runs when it is created, so that it can set itself into a useful initial state. Thus a class is not merely a _description_ of a category of objects, it's a _factory_ for creating them.\n",
    "\n",
    "In Python, the constructor is called `__init__`. It takes at least one parameter (the object being created), potentially more.\n",
    "\n",
    "![](images/constructor.png)"
   ]
  },
  {
   "cell_type": "code",
   "execution_count": 3,
   "metadata": {
    "slideshow": {
     "slide_type": "fragment"
    }
   },
   "outputs": [],
   "source": [
    "class MyClass:\n",
    "    def __init__(self):\n",
    "        pass\n",
    "\n",
    "my_object = MyClass()"
   ]
  },
  {
   "cell_type": "markdown",
   "metadata": {
    "slideshow": {
     "slide_type": "slide"
    }
   },
   "source": [
    "## Instance Variable\n",
    "\n",
    "An instance variable (sometimes shortened to _ivar_, sometimes called a _member variable_ or a _member field_) is a piece of data unique to each object. Where a class defines an instance variable, each instance of that class has its _own_ copy of the variable which is not shared, and may be unique.\n",
    "\n",
    "![](images/ivar.png)"
   ]
  },
  {
   "cell_type": "code",
   "execution_count": 4,
   "metadata": {
    "slideshow": {
     "slide_type": "fragment"
    }
   },
   "outputs": [],
   "source": [
    "class MyClass:\n",
    "    def __init__(self):\n",
    "        self.member = \"Value\"\n",
    "\n",
    "my_object = MyClass()\n",
    "assert(my_object.member == \"Value\")"
   ]
  }
 ],
 "metadata": {
  "celltoolbar": "Slideshow",
  "kernelspec": {
   "display_name": "Python 3",
   "language": "python",
   "name": "python3"
  },
  "language_info": {
   "codemirror_mode": {
    "name": "ipython",
    "version": 3
   },
   "file_extension": ".py",
   "mimetype": "text/x-python",
   "name": "python",
   "nbconvert_exporter": "python",
   "pygments_lexer": "ipython3",
   "version": "3.7.3"
  }
 },
 "nbformat": 4,
 "nbformat_minor": 2
}
