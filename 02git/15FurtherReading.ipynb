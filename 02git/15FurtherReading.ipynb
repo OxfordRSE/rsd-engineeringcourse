{
 "cells": [
  {
   "cell_type": "markdown",
   "metadata": {},
   "source": [
    "# Further Reading\n",
    "\n",
    "Here's some more material on git, and GitHub, to look into after this course."
   ]
  },
  {
   "cell_type": "markdown",
   "metadata": {},
   "source": [
    "## Graphical User Interfaces\n",
    "\n",
    "We've deliberately focussed on the command-line interface to git in this course, because it's universally accessible, and exposes git's behaviour clearly. For regular work, you may prefer to use a GUI.\n",
    "\n",
    " - [GitHub Desktop](https://desktop.github.com/) for Windows or macOS, or [Linux](https://github.com/shiftkey/desktop).\n",
    " - [Git Kraken](https://www.gitkraken.com/git-client) for Windows, macOS, or Linux."
   ]
  },
  {
   "cell_type": "markdown",
   "metadata": {},
   "source": [
    "## Books and Training Courses\n",
    "\n",
    "- [Pragmatic Version Control Using `git`](https://pragprog.com/book/tsgit/pragmatic-version-control-using-git), also [online access via SOLO](http://solo.bodleian.ox.ac.uk/primo-explore/fulldisplay?docid=oxfaleph021505720&context=L&vid=SOLO&search_scope=LSCOP_ALL&tab=local&lang=en_US)\n",
    "- [Software Carpentry Course on `git`](http://swcarpentry.github.io/git-novice/)"
   ]
  }
 ],
 "metadata": {
  "kernelspec": {
   "display_name": "Python 3",
   "language": "python",
   "name": "python3"
  },
  "language_info": {
   "codemirror_mode": {
    "name": "ipython",
    "version": 3
   },
   "file_extension": ".py",
   "mimetype": "text/x-python",
   "name": "python",
   "nbconvert_exporter": "python",
   "pygments_lexer": "ipython3",
   "version": "3.7.3"
  }
 },
 "nbformat": 4,
 "nbformat_minor": 2
}
