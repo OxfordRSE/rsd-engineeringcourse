{
 "cells": [
  {
   "cell_type": "markdown",
   "metadata": {
    "slideshow": {
     "slide_type": "slide"
    }
   },
   "source": [
    "# What happens next?"
   ]
  },
  {
   "cell_type": "markdown",
   "metadata": {
    "slideshow": {
     "slide_type": "slide"
    }
   },
   "source": [
    "OK, so now you've packaged your software, documented it, licensed it, and shared it with everyone, _now_ you can relax, yes?\n",
    "\n",
    "No. Now the bug reports and feature requests come in. A common problem on research software projects is failing to consider how _maintenance_ work will be done - and who'se going to pay for it."
   ]
  },
  {
   "cell_type": "markdown",
   "metadata": {
    "slideshow": {
     "slide_type": "slide"
    }
   },
   "source": [
    "### Issues\n",
    "\n",
    "Code has *bugs*. It also has *features*, things it should do.\n",
    "\n",
    "A good project has an organised way of managing these. Generally you should use an issue tracker."
   ]
  },
  {
   "cell_type": "markdown",
   "metadata": {
    "slideshow": {
     "slide_type": "slide"
    }
   },
   "source": [
    "### Some Issue Trackers\n",
    "\n",
    "There are lots of good issue trackers.\n",
    "\n",
    "The most commonly used open source ones are [Trac](http://trac.edgewall.org/) and [Redmine](http://www.redmine.org/).\n",
    "\n",
    "Cloud based issue trackers include [Lighthouse](http://lighthouseapp.com/) and [GitHub](https://github.com/blog/831-issues-2-0-the-next-generation).\n",
    "\n",
    "Commercial solutions include [Jira](https://www.atlassian.com/software/jira)."
   ]
  },
  {
   "cell_type": "markdown",
   "metadata": {
    "slideshow": {
     "slide_type": "slide"
    }
   },
   "source": [
    "### Anatomy of an issue\n",
    "\n",
    "* Reporter\n",
    "* Description\n",
    "* Owner\n",
    "* Type [Bug, Feature]\n",
    "* Component\n",
    "* Status\n",
    "* Severity"
   ]
  },
  {
   "cell_type": "markdown",
   "metadata": {
    "slideshow": {
     "slide_type": "slide"
    }
   },
   "source": [
    "### Reporting a Bug\n",
    "\n",
    "The description should make the bug reproducible:\n",
    "\n",
    "* Version\n",
    "* Steps\n",
    "\n",
    "If possible, submit a minimal reproducing code fragment - look at this detailed answer about [how to create a minimal example for $LaTeX$](https://tex.meta.stackexchange.com/a/3225/10934)."
   ]
  },
  {
   "cell_type": "markdown",
   "metadata": {
    "slideshow": {
     "slide_type": "slide"
    }
   },
   "source": [
    "### Owning an issue\n",
    "\n",
    "* Whoever the issue is assigned to works next.\n",
    "* If an issue needs someone else's work, assign it to them."
   ]
  },
  {
   "cell_type": "markdown",
   "metadata": {
    "slideshow": {
     "slide_type": "slide"
    }
   },
   "source": [
    "### Status \n",
    "\n",
    "* Submitted\n",
    "* Accepted\n",
    "* Underway\n",
    "* Blocked"
   ]
  },
  {
   "cell_type": "markdown",
   "metadata": {
    "slideshow": {
     "slide_type": "slide"
    }
   },
   "source": [
    "### Resolutions\n",
    "\n",
    "* Resolved\n",
    "* Will Not Fix\n",
    "* Not reproducible\n",
    "* Not a bug (working as intended)"
   ]
  },
  {
   "cell_type": "markdown",
   "metadata": {
    "slideshow": {
     "slide_type": "slide"
    }
   },
   "source": [
    "### Bug triage\n",
    "\n",
    "Some organisations use a severity matrix based on:\n",
    "\n",
    "* Severity [Wrong answer, crash, unusable, workaround, cosmetic...]\n",
    "* Frequency [All users, most users, some users...]"
   ]
  },
  {
   "cell_type": "markdown",
   "metadata": {
    "slideshow": {
     "slide_type": "slide"
    }
   },
   "source": [
    "### The backlog\n",
    "\n",
    "The list of all the bugs that need to be fixed or\n",
    "features that have been requested is called the \"backlog\"."
   ]
  },
  {
   "cell_type": "markdown",
   "metadata": {
    "slideshow": {
     "slide_type": "slide"
    }
   },
   "source": [
    "### Development cycles\n",
    "\n",
    "Development goes in *cycles*.\n",
    "\n",
    "Cycles range in length from a week to three months.\n",
    "\n",
    "In a given cycle:\n",
    "\n",
    "* Decide which features should be implemented\n",
    "* Decide which bugs should be fixed\n",
    "* Move these issues from the Backlog into the current cycle. (Aka Sprint)"
   ]
  },
  {
   "cell_type": "markdown",
   "metadata": {
    "slideshow": {
     "slide_type": "slide"
    }
   },
   "source": [
    "### GitHub issues\n",
    "\n",
    "GitHub doesn't have separate fields for status, component, severity etc.\n",
    "Instead, it just has labels, which you can create and delete.\n",
    "\n",
    "See for example [Jupyter](https://github.com/jupyter/notebook/issues?page=1&state=open)."
   ]
  },
  {
   "cell_type": "markdown",
   "metadata": {
    "slideshow": {
     "slide_type": "slide"
    }
   },
   "source": [
    "## Version management\n",
    "\n",
    "When you release a fixed version of the software, you want to communicate what has changed and make it easy for people to see how up to date they are. _Version numbers_ are an at-a-glance indication of currentness.\n",
    "\n",
    "If you're making a library for other programmers, it's common to use [semantic versioning](https://semver.org/). Otherwise you can do what you like."
   ]
  },
  {
   "cell_type": "markdown",
   "metadata": {
    "slideshow": {
     "slide_type": "slide"
    }
   },
   "source": [
    "### Marketing versions\n",
    "\n",
    "Plenty of projects just use version numbers however their people feel like, to indicate novelty. Examples:\n",
    "\n",
    " - Linux gets a new version number when Linus Torvalds is ready.\n",
    " - Linux _previously_ used the convention that experimental versions had odd numbers, stable version had even numbers.\n",
    " - Canonical release Ubuntu on a schedule, and name versions after the date: version 19.04 was released in April 2019.\n",
    " - Windows has changed practice, so a home user might have used Windows 3.11, 95, 98, Millennium, XP, Vista, 7, 8, 10.\n",
    " - Solaris is currently on version 11 but for compatibility reasons is also version 5.11 and 2.11, depending on how you ask."
   ]
  },
  {
   "cell_type": "markdown",
   "metadata": {
    "slideshow": {
     "slide_type": "slide"
    }
   },
   "source": [
    "### Semantic Versioning\n",
    "\n",
    "In version X.Y.Z:\n",
    "\n",
    " - Z is the patch-level version. Update this if you fix bugs but leave the interface to the code (the way programmers use it) unchanged.\n",
    " - Y is the minor version. Update this (and set Z to 0) if you add features but leave the interface for existing features unchanged.\n",
    " - X is the major version. Update this (setting Y and Z to 0) if you change the way existing things work, so people can tell that upgrading is a big task."
   ]
  }
 ],
 "metadata": {
  "celltoolbar": "Slideshow",
  "jekyll": {
   "display_name": "Issue Tracking"
  },
  "kernelspec": {
   "display_name": "Python 3",
   "language": "python",
   "name": "python3"
  },
  "language_info": {
   "codemirror_mode": {
    "name": "ipython",
    "version": 3
   },
   "file_extension": ".py",
   "mimetype": "text/x-python",
   "name": "python",
   "nbconvert_exporter": "python",
   "pygments_lexer": "ipython3",
   "version": "3.7.3"
  }
 },
 "nbformat": 4,
 "nbformat_minor": 2
}
