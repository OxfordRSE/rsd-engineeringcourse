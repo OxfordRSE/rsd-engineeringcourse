{
 "cells": [
  {
   "cell_type": "markdown",
   "metadata": {},
   "source": [
    "# Building and Distributing Software Lab\n",
    "\n",
    "You'll notice that this folder has some Python code in it. There's a file `palin.py`, which contains a function `is_palindrome()` which tells you whether a string is a palindrome. You can use it like this:"
   ]
  },
  {
   "cell_type": "code",
   "execution_count": 2,
   "metadata": {},
   "outputs": [
    {
     "name": "stdout",
     "output_type": "stream",
     "text": [
      "False\n",
      "True\n"
     ]
    }
   ],
   "source": [
    "from palin import is_palindrome\n",
    "\n",
    "print(is_palindrome(\"foo\"))\n",
    "print(is_palindrome(\"noon\"))"
   ]
  },
  {
   "cell_type": "markdown",
   "metadata": {},
   "source": [
    "You'll also find some pytest tests in that file."
   ]
  },
  {
   "cell_type": "code",
   "execution_count": 6,
   "metadata": {},
   "outputs": [
    {
     "name": "stdout",
     "output_type": "stream",
     "text": [
      "============================= test session starts ==============================\n",
      "platform linux -- Python 3.7.3, pytest-4.3.1, py-1.8.0, pluggy-0.9.0\n",
      "rootdir: /home/gralee/Projects/rsd-engineeringcourse/17building_lab, inifile:\n",
      "plugins: remotedata-0.3.1, openfiles-0.3.2, doctestplus-0.3.0, arraydiff-0.3\n",
      "collected 4 items\n",
      "\n",
      "test_palin.py ....                                                       [100%]\n",
      "\n",
      "=========================== 4 passed in 0.01 seconds ===========================\n"
     ]
    }
   ],
   "source": [
    "%%bash\n",
    "\n",
    "pytest"
   ]
  },
  {
   "cell_type": "markdown",
   "metadata": {},
   "source": [
    "Your task is to create a distributable Python package that's easy to use by others who want to take advantage of this function. You should consider:\n",
    "\n",
    " - source code layout: put the tests in a different folder\n",
    " - packaging: create a Python package using `setuptools`\n",
    " - documentation: provide docstrings, a README, and a citation file\n",
    " - licensing: feel welcome to choose an open source license you think appropriate\n",
    " - publishing: create a project on Github so others can view and contribute"
   ]
  }
 ],
 "metadata": {
  "kernelspec": {
   "display_name": "Python 3",
   "language": "python",
   "name": "python3"
  },
  "language_info": {
   "codemirror_mode": {
    "name": "ipython",
    "version": 3
   },
   "file_extension": ".py",
   "mimetype": "text/x-python",
   "name": "python",
   "nbconvert_exporter": "python",
   "pygments_lexer": "ipython3",
   "version": "3.7.3"
  }
 },
 "nbformat": 4,
 "nbformat_minor": 2
}
