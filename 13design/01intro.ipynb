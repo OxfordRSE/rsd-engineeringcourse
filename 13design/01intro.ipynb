{
 "cells": [
  {
   "cell_type": "markdown",
   "metadata": {},
   "source": [
    "# Design and Development\n",
    "\n",
    "Despite being a section on design, you're not going to learn a lot about aesthetics, user interface design, or user experience. While these are an important aspect of design and contribute significantly to the first impressions - and therefore the success or failure - of a lot of software, they're actually only a _small_ component of software design.\n",
    "\n",
    "The [Software Engineering Body of Knowledge](https://www.computer.org/education/bodies-of-knowledge/software-engineering) has a sixteen page chapter on software design. Of these, only two are about user interface design, and these only give general guidance. While there is plenty of science to bring to bear on human-computer interaction, user interface design is often approached in a highly subjective and trend-driven fashion.\n",
    "\n",
    "As software engineers, our design skills must be applied to a wider range of considerations, including but not limited to the user interface. Designing a software system means constructing an approach to building the system that satisfies all requirements, and enables us to achieve all of the software's goals."
   ]
  }
 ],
 "metadata": {
  "kernelspec": {
   "display_name": "Python 3",
   "language": "python",
   "name": "python3"
  },
  "language_info": {
   "codemirror_mode": {
    "name": "ipython",
    "version": 3
   },
   "file_extension": ".py",
   "mimetype": "text/x-python",
   "name": "python",
   "nbconvert_exporter": "python",
   "pygments_lexer": "ipython3",
   "version": "3.7.3"
  }
 },
 "nbformat": 4,
 "nbformat_minor": 2
}
