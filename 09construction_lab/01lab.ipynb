{
 "cells": [
  {
   "cell_type": "markdown",
   "metadata": {},
   "source": [
    "# Lab on software construction\n",
    "\n",
    "You've got enough python and version control experience at this point that for this lab, we're not giving you any code to walk through. You'll just get the description of the problem and the latitude to implement the solution however you wish.\n",
    "\n",
    "Use the skills you learned from the section on construction to guide the design if your implementation. Use as many, or as few, comments as you deem important, or other documentation in the form of literate programming.\n",
    "\n",
    "You may also want to use tests (see sections 6 and 7) to help develop your implementation.\n",
    "\n",
    "## Estimating $\\pi$ using Monte Carlo methods\n",
    "\n",
    "A point whose $x$ and $y$ co-ordinates are both in the range -1 to 1 lies in the square centred on the origin with area 4 units. If the point is less than a distance 1 from the origin, then it is also inside a circle centred on the origin with radius 1, area $\\pi$.\n",
    "\n",
    "Using these facts, you can generate an estimate of $\\pi$ using this algorithm:\n",
    "\n",
    "1. generate a pair of random numbers between -1 and 1, representing a point in the square.\n",
    "2. use Pythagoras's theorem to find the distance from the origin to the point.\n",
    "3. if the distance is less than one, then the point is also in the circle.\n",
    "4. repeat steps 1-3 a large number of times, counting how many points you generate and how many of those are within the circle.\n",
    "5. the ratio of (points in circle)/(points in square) is the ratio of the areas, $\\pi/4$.\n",
    "6. multiply this ratio by 4 and you have an estimate for $\\pi$."
   ]
  }
 ],
 "metadata": {
  "kernelspec": {
   "display_name": "Python 3",
   "language": "python",
   "name": "python3"
  },
  "language_info": {
   "codemirror_mode": {
    "name": "ipython",
    "version": 3
   },
   "file_extension": ".py",
   "mimetype": "text/x-python",
   "name": "python",
   "nbconvert_exporter": "python",
   "pygments_lexer": "ipython3",
   "version": "3.7.3"
  }
 },
 "nbformat": 4,
 "nbformat_minor": 2
}
