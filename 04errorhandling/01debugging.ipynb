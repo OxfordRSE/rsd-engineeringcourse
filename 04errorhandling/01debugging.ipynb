{
 "cells": [
  {
   "cell_type": "markdown",
   "metadata": {},
   "source": [
    "# Debugging\n",
    "\n",
    "Great error handling helps our users and ourselves when things do go wrong, but only to the point of understanding _what_ went wrong. We still need to fix it: we need to debug our programs.\n",
    "\n",
    "## First, we need a bug.\n",
    "\n",
    "Let's build us a quick program to do something useful, like generating the Mandelbrot set."
   ]
  },
  {
   "cell_type": "code",
   "execution_count": 1,
   "metadata": {},
   "outputs": [],
   "source": [
    "%matplotlib inline\n",
    "import matplotlib\n",
    "import numpy as np\n",
    "\n",
    "def iterations(c):\n",
    "    max_iterations = 511\n",
    "    z = complex(0,0)\n",
    "    for i in range(1, max_iterations+1):\n",
    "        z = z**2 + c\n",
    "        if abs(z) > 2.0:\n",
    "            return i\n",
    "    return 1\n",
    "\n",
    "def mandelbrot(complex_values):\n",
    "    iters = np.vectorize(iterations)(complex_values)\n",
    "    return iters\n",
    "\n",
    "axes = np.arange(-1.5,1.5,0.01)\n",
    "c = np.array([x+y*1.0j for y in axes for x in axes]).reshape((300,300))\n",
    "mand = mandelbrot(c)"
   ]
  },
  {
   "cell_type": "code",
   "execution_count": 2,
   "metadata": {},
   "outputs": [
    {
     "data": {
      "text/plain": [
       "<matplotlib.collections.QuadMesh at 0x7f47f0a24f28>"
      ]
     },
     "execution_count": 2,
     "metadata": {},
     "output_type": "execute_result"
    },
    {
     "data": {
      "image/png": "[encoded data removed]",
      "text/plain": [
       "<Figure size 432x288 with 1 Axes>"
      ]
     },
     "metadata": {
      "needs_background": "light"
     },
     "output_type": "display_data"
    }
   ],
   "source": [
    "matplotlib.pyplot.pcolormesh(axes, axes, mand, cmap='prism')"
   ]
  },
  {
   "cell_type": "markdown",
   "metadata": {},
   "source": [
    "It looks _OK_, the structure of the fractal is present, but it's surprising that the inside and the outside of the structure are the same colour. Intuitively, the \"background\" of the fractal is an area where the iterative function $$z_{i+1} \\leftarrow z_{i}^2+c$$ diverges very quickly, so you might expect the \"middle\" to be a region where it doesn't diverge at all. Why do they look the same?\n",
    "\n",
    "## `print` debugging\n",
    "\n",
    "> The most effective debugging tool is still careful thought, coupled with judiciously placed print statements.\n",
    ">\n",
    "> Brian W. Kernighan, \"UNIX for Beginners\"\n",
    "\n",
    "As researchers, we don't want to indiscriminately start editing our code, hoping that we chance across the change that gives us desired behaviour. We want to take our observations about what's wrong, form a hypothesis as to the cause, investigate that cause, and then make any change suggested by our investigation.\n",
    "\n",
    "Most debugging tools are primarily used for inspection, letting you look into your code to see the results of its operations. The simplest is the `print()` function, which can show you the path taken through your program and the values of variables at steps along the way.\n",
    "\n",
    "To investigate our problem with the mandelbrot set, a good place to start would be comparing the results of the computation at a point near the edge of the plot, and a point in the middle."
   ]
  },
  {
   "cell_type": "code",
   "execution_count": 3,
   "metadata": {},
   "outputs": [
    {
     "name": "stdout",
     "output_type": "stream",
     "text": [
      "1\n",
      "1\n"
     ]
    }
   ],
   "source": [
    "print(mand[0][0])\n",
    "print(mand[150][150])"
   ]
  },
  {
   "cell_type": "markdown",
   "metadata": {},
   "source": [
    "Hmm, well that's more information: the two regions of the plot look the same because they have the same value. Now to diagnose this further you could start editing the `mandelbrot()` and `iterations()` functions, inserting `print()` calls to inspect the state of the program. But there's a better tool available, so use that."
   ]
  },
  {
   "cell_type": "markdown",
   "metadata": {},
   "source": [
    "## Using the debugger\n",
    "\n",
    "The debugger you'll be working with is [`pdb`](https://docs.python.org/3.4/library/pdb.html), the Python debugger (specifically Jupyter uses a fork called `ipdb`, but it's not wildly different). To use it within a notebook, use the magic `%debug some_python_expression`.\n",
    "\n",
    "The confusing thing for now is why the Mandelbrot set seems to be diverging quickly at the origin, so that's a good place to point the debugger."
   ]
  },
  {
   "cell_type": "code",
   "execution_count": null,
   "metadata": {},
   "outputs": [],
   "source": [
    "%debug iterations(complex(0,0))"
   ]
  },
  {
   "cell_type": "markdown",
   "metadata": {},
   "source": [
    "You'll see a `ipdb>` prompt, at which you can enter a debugger command. You want to **s**tep in to the `iterations()` function so you can see what's going on there, which is achieved with the `s` command.\n",
    "\n",
    "    ipdb> s\n",
    "    --Call--\n",
    "    > <ipython-input-42-ae459efb942b>(5)iterations()\n",
    "          3 import numpy as np\n",
    "          4 \n",
    "    ----> 5 def iterations(c):\n",
    "          6     max_iterations = 511\n",
    "          7     z = complex(0,0)\n",
    "\n",
    "Now, you'll want to investigate what's going on in this function, so use the `n` command a few times to execute the **n**ext line. For brevity let's skip ahead a few goes, you'll need to run `n` more than once to get to this point:\n",
    "\n",
    "    ipdb> n\n",
    "    > <ipython-input-42-ae459efb942b>(8)iterations()\n",
    "          6     max_iterations = 511\n",
    "          7     z = complex(0,0)\n",
    "    ----> 8     for i in range(1, max_iterations+1):\n",
    "          9         z = z**2 + c\n",
    "         10         if abs(z) > 2.0:\n",
    "\n",
    "This isn't the first time I've reached this line. You can **p**rint the value of `i` to see where in the loop you are.\n",
    "\n",
    "    ipdb> p i\n",
    "    2\n",
    "\n",
    "It looks like `iterations()` has got past the first iteration of the loop without returning. Which is surprising, because the problem we've seen is that it returns `1` in this case. Well, stepping through the rest of the function may get tedious if it runs through the loop body over five hundred times. Put a breakpoint after the loop to see whether the program gets there. If you're using Python at the command line you can use the **b** pdb command to do this. In Jupyter notebooks, you have to edit your function and insert a call to `pdb.set_trace()` where you want the breakpoint.\n"
   ]
  },
  {
   "cell_type": "code",
   "execution_count": null,
   "metadata": {},
   "outputs": [],
   "source": [
    "import pdb\n",
    "\n",
    "def iterations(c):\n",
    "    max_iterations = 511\n",
    "    z = complex(0,0)\n",
    "    for i in range(1, max_iterations+1):\n",
    "        z = z**2 + c\n",
    "        if abs(z) > 2.0:\n",
    "            return i\n",
    "    pdb.set_trace()\n",
    "    return 1\n"
   ]
  },
  {
   "cell_type": "markdown",
   "metadata": {},
   "source": [
    "Debug this version of the function, and **c**ontinue execution until the breakpoint is reached."
   ]
  },
  {
   "cell_type": "code",
   "execution_count": null,
   "metadata": {},
   "outputs": [],
   "source": [
    "%debug iterations(complex(0,0))"
   ]
  },
  {
   "cell_type": "markdown",
   "metadata": {},
   "source": [
    "    ipdb> c\n",
    "    > <ipython-input-46-6ba6cebdb22b>(11)iterations()\n",
    "    -> return 1\n",
    "\n",
    "Python has exited the loop and is about to run the line where it returns 1, which makes our bug clear: the return value when the series doesn't diverge for a value is the same as that when it diverges on the first iteration. Convince yourself that the series _hasn't_ diverged by **p**rinting `z`'s current value, after the loop has exited.\n",
    "\n",
    "    (Pdb) p z\n",
    "    0j\n",
    "\n",
    "That's Python's way of saying it's the complex number 0. We define divergence as $|z| > 2$, which is definitely not the case here. The fix seems to be to return a value _larger_ than the maximum number of iterations, if the loop doesn' terminate early. Here's a fixed version of the function."
   ]
  },
  {
   "cell_type": "code",
   "execution_count": null,
   "metadata": {},
   "outputs": [],
   "source": [
    "def iterations(c):\n",
    "    max_iterations = 511\n",
    "    z = complex(0,0)\n",
    "    for i in range(1, max_iterations+1):\n",
    "        z = z**2 + c\n",
    "        if abs(z) > 2.0:\n",
    "            return i\n",
    "    return max_iterations + 1\n",
    "\n",
    "mand = mandelbrot(c)\n",
    "matplotlib.pyplot.pcolormesh(axes, axes, mand, cmap='prism')"
   ]
  },
  {
   "cell_type": "markdown",
   "metadata": {},
   "source": [
    "That looks better (where by \"better\", I mean \"horribly garish\"): the regions of the Mandelbrot set are clearly distinguishable.\n",
    "\n",
    "### My Python is stuck\n",
    "\n",
    "A top tip on debugging in Jupyter notebooks. If you try running a Python cell and find that it never completes (no results are shown, and `In [*]:` appears in the cell margin), it's possible that you've caused an infinite loop or just a large amount of work to be done. In those cases, you can press Ctrl-C to raise a `KeyboardInterrupt` error.\n",
    "\n",
    "If you've been using the debugger, though, it's possible that it's still pausing execution in a cell and that's stopping any other Python in the notebook from working. Find the cell that's stuck at the `ipdb>` prompt and issue a **c**ontinue command."
   ]
  }
 ],
 "metadata": {
  "kernelspec": {
   "display_name": "Python 3",
   "language": "python",
   "name": "python3"
  },
  "language_info": {
   "codemirror_mode": {
    "name": "ipython",
    "version": 3
   },
   "file_extension": ".py",
   "mimetype": "text/x-python",
   "name": "python",
   "nbconvert_exporter": "python",
   "pygments_lexer": "ipython3",
   "version": "3.7.3"
  }
 },
 "nbformat": 4,
 "nbformat_minor": 2
}
