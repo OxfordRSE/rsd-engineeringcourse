{
 "cells": [
  {
   "cell_type": "markdown",
   "metadata": {},
   "source": [
    "# Welcome!\n",
    "\n",
    "As you can see this message, we know you have installed Jupyter correctly whether through Anaconda Distribution or another route. Check the [Project Jupyter documentation](https://jupyter-notebook.readthedocs.io/en/stable/) for more information about the notebook interface.\n",
    "\n",
    "For now, just be aware that a notebook can contain text cells (like this one), and code cells like the one below. A code cell can be run, to execute its contents. Click into the next cell and press Shift and Enter to run the code."
   ]
  },
  {
   "cell_type": "code",
   "execution_count": null,
   "metadata": {},
   "outputs": [],
   "source": [
    "print(\"Hello, world!\")"
   ]
  },
  {
   "cell_type": "markdown",
   "metadata": {},
   "source": [
    "Throughout this course, you'll find opportunities to enter Python code into notebook cells. Use the empty cell below to practice getting Python to write your name. As a hint, look at the code cell above to see how Python prints a string."
   ]
  },
  {
   "cell_type": "code",
   "execution_count": null,
   "metadata": {},
   "outputs": [],
   "source": []
  }
 ],
 "metadata": {
  "kernelspec": {
   "display_name": "Python 3",
   "language": "python",
   "name": "python3"
  },
  "language_info": {
   "codemirror_mode": {
    "name": "ipython",
    "version": 3
   },
   "file_extension": ".py",
   "mimetype": "text/x-python",
   "name": "python",
   "nbconvert_exporter": "python",
   "pygments_lexer": "ipython3",
   "version": "3.6.7"
  }
 },
 "nbformat": 4,
 "nbformat_minor": 2
}
