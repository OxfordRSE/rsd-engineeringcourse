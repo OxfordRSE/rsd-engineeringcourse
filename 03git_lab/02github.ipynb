{
 "cells": [
  {
   "cell_type": "markdown",
   "metadata": {},
   "source": [
    "# Activity 2: Collaborating on GitHub\n",
    "\n",
    "This activity is based on the \"[back to the checkout](http://codekata.com/kata/kata09-back-to-the-checkout/)\" code kata, by Dave Thomas.\n",
    "\n",
    "## Special Offer Pricing\n",
    "\n",
    "When you buy things in the supermarkets, there are often special promotional deals that make it cheaper to buy multiple items than the standard unit price. These are called \"multibuy\" promotions. It might be, for example, that a particular bottle of fizzy drink costs £1.20, but you can buy three for the price of two (i.e. 3 bottles costs £2.40). How much would it cost to buy seven drinks? There are two sets of three drinks at £2.40 each, making £4.80, then one bottle at the individual price of £1.20, so the total is £6.00.\n",
    "\n",
    "Your task is to write checkout software in Python that calculates the total price of a shopping basket, taking multibuy discounts into account. A customer basket is represented as a Python dictionary, with the names of products as keys with the quantity in the basket as values:"
   ]
  },
  {
   "cell_type": "code",
   "execution_count": null,
   "metadata": {},
   "outputs": [],
   "source": [
    "basket = { 'apple': 4, 'cola': 7, 'toothbrush': 2}"
   ]
  },
  {
   "cell_type": "markdown",
   "metadata": {},
   "source": [
    "The price list is a complicated data structure at first glance: a dictionary of lists of tuples. With a bit of analysis it becomes clear what is going on. Here's an example:"
   ]
  },
  {
   "cell_type": "code",
   "execution_count": null,
   "metadata": {},
   "outputs": [],
   "source": [
    "prices = {\n",
    "    'apple': [(1, 0.32)],\n",
    "    'cola': [(1, 1.20), (3, 2.40)],\n",
    "    'dog food': [(1, 1.15)],\n",
    "    'toothbrush': [(1, 0.80), (4, 3.50), (10, 80)]\n",
    "}"
   ]
  },
  {
   "cell_type": "markdown",
   "metadata": {},
   "source": [
    "Each key in the dictionary is a product name. The value associated with a particular product is a list of pairs of numbers. The first number in a pair is a quantity of products, and the second is the price for that quantity. We can see that the price of 1 cola is 1.20:"
   ]
  },
  {
   "cell_type": "code",
   "execution_count": null,
   "metadata": {},
   "outputs": [],
   "source": [
    "cola_unit_price = [tuple[1] for tuple in prices['cola'] if tuple[0] == 1]\n",
    "print(f\"A cola costs £{cola_unit_price}\")"
   ]
  },
  {
   "cell_type": "markdown",
   "metadata": {},
   "source": [
    "You can assume that there is always at least one price in the list for a given product, that if there is more than one price they are ordered numerically by quantity, and that the unit price is always present."
   ]
  },
  {
   "cell_type": "markdown",
   "metadata": {},
   "source": [
    "## Collaboration\n",
    "\n",
    "You will not work on this challenge alone. Get into pairs or groups of three, and work together using GitHub to complete the activity. Make sure you each have a GitHub account and are set up to use it on your computer (in particular, you will need your SSH public key to be in your GitHub account settings). Now decide how you're going to share this work between you, how you will synchronise and resolve conflicts, and how you will publish, review and accept pull requests between the members of your team."
   ]
  }
 ],
 "metadata": {
  "kernelspec": {
   "display_name": "Python 3",
   "language": "python",
   "name": "python3"
  },
  "language_info": {
   "codemirror_mode": {
    "name": "ipython",
    "version": 3
   },
   "file_extension": ".py",
   "mimetype": "text/x-python",
   "name": "python",
   "nbconvert_exporter": "python",
   "pygments_lexer": "ipython3",
   "version": "3.7.3"
  }
 },
 "nbformat": 4,
 "nbformat_minor": 2
}
