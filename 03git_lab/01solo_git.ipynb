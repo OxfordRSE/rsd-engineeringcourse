{
 "cells": [
  {
   "cell_type": "markdown",
   "metadata": {},
   "source": [
    "# Activity 1: Solo git use\n",
    "\n",
    "The Python programming challenge here is set to give you something small, but hopefully not trivial, to work on, but the goal is to use git to store and version control your work.\n",
    "\n",
    "## Finding roots of continuous functions\n",
    "\n",
    "A very old numerical method for finding an approximation to a root of a function (i.e. a value $x$ at which $f(x)\\sim =0$ is called the _secant method_. Given two guesses $x_0, x_1$ either side of the root, a better approximation $x_2$ can be found: $$x_2 = \\frac{x_0 f(x_1) - x_1 f(x_0)}{f(x_1) - f(x_0)}$$\n",
    "\n",
    "This method is recursive, so you can refine your approximation by producing $x_3$ from $x_1$ and $x_2$, and so on. The program will eventually converge within the numerical precision available to python, so you should stop recursing when your new approximate value is equal to your previous approximation, i.e. when $$x_i = x_{i-1}$$.\n",
    "\n",
    "The task in this activity is to set up a git repository, and use it to track your work while you build an implementation of the secant method. Use your method to discover an approximate value for $\\sqrt{2}$ by finding a root for $f(x) = x^2 - 2$ between 1 and 2.\n",
    "\n",
    "### Hints\n",
    "\n",
    " - create a new directory to store your program, change to that directory, and run `git init .` to get your repository set up.\n",
    " - use the parts defined in the cell below as an outline for your solution, you'll want to fill in the `secant` function.\n",
    " - commit early and commit often! Whenever you have a useful addition to your code, you should commit with a meaningful message, so you don't have to \"unwind\" far if you go down the wrong path and need to revert.\n",
    " - refer to the git commands described in the previous lesson."
   ]
  },
  {
   "cell_type": "code",
   "execution_count": null,
   "metadata": {},
   "outputs": [],
   "source": [
    "def f(x):\n",
    "    return x**2 - 2\n",
    "\n",
    "x_0 = 1\n",
    "x_1 = 2\n",
    "\n",
    "def secant(f, first_guess, second_guess):\n",
    "    # build this function\n",
    "    pass\n",
    "\n",
    "sqrt_2 = # call your new function to find the value\n",
    "print(sqrt_2, sqrt_2**2)"
   ]
  }
 ],
 "metadata": {
  "kernelspec": {
   "display_name": "Python 3",
   "language": "python",
   "name": "python3"
  },
  "language_info": {
   "codemirror_mode": {
    "name": "ipython",
    "version": 3
   },
   "file_extension": ".py",
   "mimetype": "text/x-python",
   "name": "python",
   "nbconvert_exporter": "python",
   "pygments_lexer": "ipython3",
   "version": "3.7.3"
  }
 },
 "nbformat": 4,
 "nbformat_minor": 2
}
