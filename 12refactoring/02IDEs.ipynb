{
 "cells": [
  {
   "cell_type": "markdown",
   "metadata": {},
   "source": [
    "# Integrated Development Environments\n",
    "\n",
    "Python programs are just text files, so you can edit them in any text editor (Notepad on Windows, TextEdit on macOS, gedit on Linux...). As you may have seen from working with notebooks, it's handy to have an environment with a few more programming features. Syntax highlighting can help to see code structure at a glance, and being able to run your Python and see the results without leaving the editor make it faster to iteratively build software.\n",
    "\n",
    "Many developers use Integrated Development Environments (IDEs) as their window onto their Python projects. A good IDE lets you edit, debug, test, package, refactor, look up documentation, work with version control, and more all from one user interface.\n",
    "\n",
    "Your team may have a standard IDE that they use, but it's always possible for people with different IDEs (or not IDE at all) to collaborate on a Python project. We won't recommend any one IDE because your experience will depend strongly on your tastes and \"comfort\" with each IDE's interface. Here's a short (non-exhaustive) list of some free IDEs we've used to work with Python.\n",
    "\n",
    " - [Visual Studio Code](https://code.visualstudio.com/docs/python/python-tutorial)\n",
    " - [PyCharm Community Edition](https://www.jetbrains.com/pycharm/)\n",
    " - [PyDev for Eclipse](http://www.pydev.org/)\n"
   ]
  }
 ],
 "metadata": {
  "kernelspec": {
   "display_name": "Python 3",
   "language": "python",
   "name": "python3"
  },
  "language_info": {
   "codemirror_mode": {
    "name": "ipython",
    "version": 3
   },
   "file_extension": ".py",
   "mimetype": "text/x-python",
   "name": "python",
   "nbconvert_exporter": "python",
   "pygments_lexer": "ipython3",
   "version": "3.7.3"
  }
 },
 "nbformat": 4,
 "nbformat_minor": 2
}
