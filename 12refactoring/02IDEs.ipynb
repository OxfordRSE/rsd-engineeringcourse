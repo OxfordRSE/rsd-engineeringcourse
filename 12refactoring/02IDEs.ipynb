{
 "cells": [
  {
   "cell_type": "markdown",
   "metadata": {},
   "source": [
    "# Integrated Development Environments\n",
    "\n",
    "Python programs are just text files, so you can edit them in any text editor (Notepad on Windows, TextEdit on macOS, gedit on Linux...). As you may have seen from working with notebooks, it's handy to have an environment with a few more programming features. Syntax highlighting can help to see code structure at a glance, and being able to run your Python and see the results without leaving the editor make it faster to iteratively build software.\n",
    "\n",
    "Many developers use Integrated Development Environments (IDEs) as their window onto their Python projects. A good IDE lets you edit, debug, test, package, refactor, look up documentation, work with version control, and more all from one user interface.\n",
    "\n",
    "Some software teams may have a standard IDE that they use, but it's always possible for people with different IDEs (or no IDE at all) to collaborate on a Python project. Here's a short (non-exhaustive) list of some free IDEs we've used to work with Python.\n",
    "\n",
    " - [Visual Studio Code](https://code.visualstudio.com/docs/python/python-tutorial)\n",
    " - [PyCharm Community Edition](https://www.jetbrains.com/pycharm/)\n",
    " - [PyDev for Eclipse](http://www.pydev.org/)\n",
    "\n",
    "As mentioned in the Pre-Study section, PyCharm is a good first choice. It has plenty of refactorings built-in as automatic transformations. Select the region of code you want to change, right click, choose \"Refactor\", then one of the options PyCharm offers."
   ]
  }
 ],
 "metadata": {
  "kernelspec": {
   "display_name": "Python 3",
   "language": "python",
   "name": "python3"
  },
  "language_info": {
   "codemirror_mode": {
    "name": "ipython",
    "version": 3
   },
   "file_extension": ".py",
   "mimetype": "text/x-python",
   "name": "python",
   "nbconvert_exporter": "python",
   "pygments_lexer": "ipython3",
   "version": "3.7.1"
  }
 },
 "nbformat": 4,
 "nbformat_minor": 2
}
