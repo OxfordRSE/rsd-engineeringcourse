{
 "cells": [
  {
   "cell_type": "markdown",
   "metadata": {
    "slideshow": {
     "slide_type": "slide"
    }
   },
   "source": [
    "# Documentation\n",
    "\n",
    "Just like comments, documentation is natural-language prose about your program. Just like comments, there is a probability below 1 that somebody will read your documentation."
   ]
  },
  {
   "cell_type": "markdown",
   "metadata": {
    "slideshow": {
     "slide_type": "slide"
    }
   },
   "source": [
    "The [Manifesto for Agile Software Development](http://agilemanifesto.org/) says:\n",
    "\n",
    "> ... we have come to value ... working software over comprehensive documentation.\n",
    "> ... That is, while there is value in the items on the right, we value the items on the left more.\n",
    "\n",
    "In other words, documentation has value! That value can be as a reference to help experts remember which features of a module to use in what context. It can be a tutorial that helps beginners be productive. It could be an academic paper, adding the software to its discipline's body of knowledge."
   ]
  },
  {
   "cell_type": "markdown",
   "metadata": {
    "slideshow": {
     "slide_type": "slide"
    }
   },
   "source": [
    "## docstrings\n",
    "\n",
    "A Python module, class or function can start with a \"\"\"triple-quoted string\"\"\" that acts as documentation for that module, class or function. This docstring is conventionally considered to be reference documentation, giving a brief explanation of how to use the documented object."
   ]
  },
  {
   "cell_type": "code",
   "execution_count": null,
   "metadata": {
    "slideshow": {
     "slide_type": "slide"
    }
   },
   "outputs": [],
   "source": [
    "class Stack:\n",
    "    \"\"\"A stack is a last-in, first-out ordered collection.\"\"\"\n",
    "    def __init__(self, items=[]):\n",
    "        \"\"\"Initialise the stack. Optionally, set its initial state to\n",
    "        a list of items: the default is an empty stack.\"\"\"\n",
    "        self.items = items\n",
    "    def push(self, item):\n",
    "        \"\"\"Add an item to the top of the stack.\"\"\"\n",
    "        self.items.insert(0, item)\n",
    "    def pop(self):\n",
    "        \"\"\"Remove the item at the top of the stack and return it. Raises\n",
    "        IndexError if the stack is empty.\"\"\"\n",
    "        if len(self.items) == 0:\n",
    "            raise IndexError\n",
    "        return self.items.pop(0)\n"
   ]
  },
  {
   "cell_type": "markdown",
   "metadata": {
    "slideshow": {
     "slide_type": "slide"
    }
   },
   "source": [
    "When a Python object has docstrings, they can be accessed in a notebook or at the Python interactive command-line using `help()`."
   ]
  },
  {
   "cell_type": "code",
   "execution_count": null,
   "metadata": {
    "slideshow": {
     "slide_type": "fragment"
    }
   },
   "outputs": [],
   "source": [
    "help(Stack)"
   ]
  },
  {
   "cell_type": "markdown",
   "metadata": {
    "slideshow": {
     "slide_type": "slide"
    }
   },
   "source": [
    "## pydoc\n",
    "\n",
    "The `pydoc` module can generate (and serve) HTML documentation from python docstrings."
   ]
  },
  {
   "cell_type": "code",
   "execution_count": null,
   "metadata": {
    "slideshow": {
     "slide_type": "fragment"
    }
   },
   "outputs": [],
   "source": [
    "import pydoc\n",
    "pydoc.writedoc(Stack) #generates Stack.html alongside this notebook"
   ]
  },
  {
   "cell_type": "markdown",
   "metadata": {
    "slideshow": {
     "slide_type": "slide"
    }
   },
   "source": [
    "## doctest\n",
    "\n",
    "If your docstring includes Python code, you'll want to make sure that it's correct. `doctest` is a Python module that searches for example Python in docstrings, executes it, and verifies the result. It finds the Python by looking for the `>>>` Python prompt."
   ]
  },
  {
   "cell_type": "code",
   "execution_count": null,
   "metadata": {
    "slideshow": {
     "slide_type": "fragment"
    }
   },
   "outputs": [],
   "source": [
    "def add_two(n):\n",
    "    \"\"\"Adds two to its input. Example:\n",
    "    >>> add_two(5)\n",
    "    6\n",
    "    \n",
    "    ^ spot the deliberate mistake to demontrate a doctest failure!\n",
    "    \"\"\"\n",
    "    return n + 2\n",
    "\n",
    "import doctest\n",
    "doctest.testmod()"
   ]
  },
  {
   "cell_type": "markdown",
   "metadata": {
    "slideshow": {
     "slide_type": "slide"
    }
   },
   "source": [
    "## Jupyter notebooks\n",
    "\n",
    "The notebook you're using now is itself documentation! Jupyter notebooks are a great example of [Literate Programming](https://en.wikipedia.org/wiki/Literate_programming), weaving program source code with a human-readable explanation of that program. They go beyond that, letting people run the code themselves, and even change it or try out their own things. "
   ]
  }
 ],
 "metadata": {
  "celltoolbar": "Slideshow",
  "kernelspec": {
   "display_name": "Python 3",
   "language": "python",
   "name": "python3"
  },
  "language_info": {
   "codemirror_mode": {
    "name": "ipython",
    "version": 3
   },
   "file_extension": ".py",
   "mimetype": "text/x-python",
   "name": "python",
   "nbconvert_exporter": "python",
   "pygments_lexer": "ipython3",
   "version": "3.7.3"
  }
 },
 "nbformat": 4,
 "nbformat_minor": 2
}
