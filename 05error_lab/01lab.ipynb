{
 "cells": [
  {
   "cell_type": "markdown",
   "metadata": {},
   "source": [
    "# Error Handling Lab\n",
    "\n",
    "The Python code in this notebook appears to work, or at least, it did work the one time I tried running it. It lists the contributors to the Research Software Engineering course, by asking the github API who has committed to the repository.\n",
    "\n",
    "I didn't write any error handling when I made this code, so it's your responsibility to do that. Some things to think about:\n",
    "\n",
    " 1. What could go wrong? If you would like a hint for one example, disconnect your computer from the network before running the code cell.\n",
    " 2. For each thing that goes wrong, what should the program do? Should it give up and tell the user, or try again, or use a different approach to solving its problem?\n",
    " 3. If you're going to tell the user that the program failed, what information might they need to diagnose the problem?\n",
    "\n",
    "Try introducing errors into the program, e.g. by replacing a variable with a bad value, to see what can fail, and whether the error is appropriately handled. If a particular situation leads to an error and you can't see why (or doesn't when you think it should), then try using the debugger to understand what is going on."
   ]
  },
  {
   "cell_type": "code",
   "execution_count": null,
   "metadata": {},
   "outputs": [],
   "source": [
    "import json\n",
    "import urllib.request\n",
    "\n",
    "# I hope the github server is available, and that I got the path right!\n",
    "data = urllib.request.urlopen(\"https://api.github.com/repos/OxfordRSE/rsd-engineeringcourse/contributors\").read()\n",
    "# I hope the data I got back was json!\n",
    "contributors = json.loads(data)\n",
    "# I hope each object in the response is formatted as I expect!\n",
    "contributor_names = [user['login'] for user in contributors]\n",
    "# I hope everything in this list is a string!\n",
    "name_list = \", \".join(contributor_names)\n",
    "print(f\"This course was brought to you by the github users: {name_list}.\")"
   ]
  }
 ],
 "metadata": {
  "kernelspec": {
   "display_name": "Python 3",
   "language": "python",
   "name": "python3"
  },
  "language_info": {
   "codemirror_mode": {
    "name": "ipython",
    "version": 3
   },
   "file_extension": ".py",
   "mimetype": "text/x-python",
   "name": "python",
   "nbconvert_exporter": "python",
   "pygments_lexer": "ipython3",
   "version": "3.7.3"
  }
 },
 "nbformat": 4,
 "nbformat_minor": 2
}
